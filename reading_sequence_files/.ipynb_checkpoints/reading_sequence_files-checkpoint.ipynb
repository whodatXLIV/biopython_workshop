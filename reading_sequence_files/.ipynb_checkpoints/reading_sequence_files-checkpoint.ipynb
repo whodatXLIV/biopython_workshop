{
 "cells": [
  {
   "cell_type": "code",
   "execution_count": 26,
   "metadata": {
    "autoscroll": false,
    "collapsed": false,
    "ein.hycell": false,
    "ein.tags": "worksheet-0",
    "slideshow": {
     "slide_type": "-"
    }
   },
   "outputs": [],
   "source": [
    "from Bio import SeqIO\n",
    "import  matplotlib.pyplot as plt\n",
    "%matplotlib inline\n",
    "plt.style.use('dark_background')"
   ]
  },
  {
   "cell_type": "code",
   "execution_count": 47,
   "metadata": {
    "autoscroll": false,
    "collapsed": false,
    "ein.hycell": false,
    "ein.tags": "worksheet-0",
    "slideshow": {
     "slide_type": "-"
    }
   },
   "outputs": [
    {
     "name": "stdout",
     "output_type": "stream",
     "text": [
      "There are 4140 sequences whose total length is 1311795\n",
      "There are 420 whose sequence length are less than 100\n",
      "An example sequence is MKRISTTITTTITITTGNGAG\n"
     ]
    },
    {
     "data": {
      "image/png": "[encoded data removed]",
      "text/plain": [
       "<matplotlib.figure.Figure at 0x26ff044d0f0>"
      ]
     },
     "metadata": {},
     "output_type": "display_data"
    }
   ],
   "source": [
    "filename = \"../NC_000913.faa\"\n",
    "count = 0\n",
    "short_count = 0\n",
    "sum_length = 0\n",
    "sizes = []\n",
    "sequence = SeqIO.parse(filename,\"fasta\")\n",
    "sequence_list = list(SeqIO.parse(filename,\"fasta\"))\n",
    "for record in sequence:\n",
    "    count += 1\n",
    "    sum_length += len(record.seq)\n",
    "    sizes.append(len(record.seq))\n",
    "    if len(record.seq)<100:\n",
    "       short_count += 1 \n",
    "\n",
    "print(\"There are %d sequences whose total length is %d\" % (count,sum_length))\n",
    "print(\"There are %d whose sequence length are less than 100\" % (short_count))\n",
    "histogram = plt.hist(sizes, bins=50)\n",
    "print(\"An example sequence is \" + sequence_list[0].seq)"
   ]
  },
  {
   "cell_type": "code",
   "execution_count": 50,
   "metadata": {
    "autoscroll": false,
    "collapsed": false,
    "ein.hycell": false,
    "ein.tags": "worksheet-0",
    "slideshow": {
     "slide_type": "-"
    }
   },
   "outputs": [
    {
     "name": "stdout",
     "output_type": "stream",
     "text": [
      "PGSC0003DMP400032467 PGSC0003DMT400047950 Protein start_err\n",
      "PGSC0003DMP400011427 PGSC0003DMT400016488 Protein start_err\n",
      "PGSC0003DMP400068739 PGSC0003DMT400097064 Protein start_err\n",
      "PGSC0003DMP400024400 PGSC0003DMT400035904 Protein start_err\n",
      "PGSC0003DMP400059785 PGSC0003DMT400088110 Protein start_err\n",
      "PGSC0003DMP400067094 PGSC0003DMT400095419 Protein start_err\n",
      "PGSC0003DMP400054255 PGSC0003DMT400079972 Protein start_err\n",
      "PGSC0003DMP400023309 PGSC0003DMT400034263 Protein start_err\n",
      "PGSC0003DMP400060501 PGSC0003DMT400088826 Protein start_err\n",
      "PGSC0003DMP400023826 PGSC0003DMT400035026 Protein start_err\n",
      "PGSC0003DMP400042796 PGSC0003DMT400063561 Protein start_err\n",
      "PGSC0003DMP400051973 PGSC0003DMT400076700 Protein start_err\n",
      "PGSC0003DMP400036352 PGSC0003DMT400053967 Protein start_err\n",
      "PGSC0003DMP400062695 PGSC0003DMT400091020 Protein start_err\n",
      "PGSC0003DMP400024848 PGSC0003DMT400036649 Protein start_err\n",
      "PGSC0003DMP400061944 PGSC0003DMT400090269 Protein start_err\n",
      "PGSC0003DMP400028164 PGSC0003DMT400041595 Protein start_err\n",
      "PGSC0003DMP400004968 PGSC0003DMT400007157 Protein start_err\n",
      "PGSC0003DMP400022408 PGSC0003DMT400032932 Protein start_err\n",
      "PGSC0003DMP400028413 PGSC0003DMT400041923 Protein start_err\n",
      "PGSC0003DMP400043480 PGSC0003DMT400064492 Protein start_err\n",
      "PGSC0003DMP400068056 PGSC0003DMT400096381 Protein start_err\n",
      "PGSC0003DMP400018521 PGSC0003DMT400027148 Protein start_err\n",
      "PGSC0003DMP400057165 PGSC0003DMT400085490 Protein start_err\n",
      "PGSC0003DMP400046235 PGSC0003DMT400068430 Protein start_err\n",
      "PGSC0003DMP400052251 PGSC0003DMT400077116 Protein start_err\n",
      "PGSC0003DMP400014604 PGSC0003DMT400021468 Protein start_err\n",
      "PGSC0003DMP400052326 PGSC0003DMT400077237 Protein start_err\n",
      "PGSC0003DMP400058158 PGSC0003DMT400086483 Protein start_err\n",
      "PGSC0003DMP400050848 PGSC0003DMT400075074 Protein start_err\n",
      "PGSC0003DMP400061330 PGSC0003DMT400089655 Protein start_err\n",
      "PGSC0003DMP400015272 PGSC0003DMT400022405 Protein start_err\n",
      "PGSC0003DMP400046730 PGSC0003DMT400069205 Protein start_err\n",
      "PGSC0003DMP400028100 PGSC0003DMT400041473 Protein start_err\n",
      "PGSC0003DMP400060545 PGSC0003DMT400088870 Protein start_err\n",
      "PGSC0003DMP400011675 PGSC0003DMT400016891 Protein start_err\n",
      "PGSC0003DMP400052772 PGSC0003DMT400077961 Protein start_err\n",
      "PGSC0003DMP400053051 PGSC0003DMT400078324 Protein start_err\n",
      "PGSC0003DMP400063436 PGSC0003DMT400091761 Protein start_err\n",
      "PGSC0003DMP400015230 PGSC0003DMT400022347 Protein start_err\n",
      "PGSC0003DMP400010438 PGSC0003DMT400015079 Protein start_err\n",
      "PGSC0003DMP400016701 PGSC0003DMT400024424 Protein start_err\n",
      "PGSC0003DMP400062229 PGSC0003DMT400090554 Protein start_err\n",
      "PGSC0003DMP400015212 PGSC0003DMT400022316 Protein start_err\n",
      "PGSC0003DMP400065859 PGSC0003DMT400094184 Protein start_err\n",
      "PGSC0003DMP400068666 PGSC0003DMT400096991 Protein start_err\n",
      "PGSC0003DMP400027995 PGSC0003DMT400041300 Protein start_err\n",
      "PGSC0003DMP400039884 PGSC0003DMT400059225 Protein start_err\n",
      "PGSC0003DMP400046359 PGSC0003DMT400068609 Protein start_err\n",
      "PGSC0003DMP400066888 PGSC0003DMT400095213 Protein start_err\n",
      "PGSC0003DMP400057178 PGSC0003DMT400085503 Protein start_err\n",
      "PGSC0003DMP400060512 PGSC0003DMT400088837 Protein start_err\n",
      "PGSC0003DMP400069102 PGSC0003DMT400097427 Protein start_err\n",
      "PGSC0003DMP400000225 PGSC0003DMT400000296 Protein start_err\n",
      "PGSC0003DMP400062829 PGSC0003DMT400091154 Protein start_err\n",
      "PGSC0003DMP400045542 PGSC0003DMT400067486 Protein start_err\n",
      "PGSC0003DMP400057871 PGSC0003DMT400086196 Protein start_err\n",
      "PGSC0003DMP400044279 PGSC0003DMT400065620 Protein start_err\n",
      "PGSC0003DMP400059745 PGSC0003DMT400088070 Protein start_err\n",
      "PGSC0003DMP400014852 PGSC0003DMT400021811 Protein start_err\n",
      "PGSC0003DMP400067585 PGSC0003DMT400095910 Protein start_err\n",
      "PGSC0003DMP400009855 PGSC0003DMT400014272 Protein start_err\n",
      "PGSC0003DMP400033649 PGSC0003DMT400049853 Protein start_err\n",
      "PGSC0003DMP400035534 PGSC0003DMT400052706 Protein start_err\n",
      "PGSC0003DMP400010712 PGSC0003DMT400015459 Protein start_err\n",
      "PGSC0003DMP400015132 PGSC0003DMT400022189 Protein start_err\n",
      "PGSC0003DMP400039495 PGSC0003DMT400058632 Protein start_err\n",
      "PGSC0003DMP400032273 PGSC0003DMT400047651 Protein start_err\n",
      "PGSC0003DMP400034592 PGSC0003DMT400051307 Protein start_err\n",
      "PGSC0003DMP400039352 PGSC0003DMT400058445 Protein start_err\n",
      "PGSC0003DMP400064759 PGSC0003DMT400093084 Protein start_err\n",
      "PGSC0003DMP400015494 PGSC0003DMT400022745 Protein start_err\n",
      "PGSC0003DMP400056602 PGSC0003DMT400084927 Protein start_err\n",
      "PGSC0003DMP400043046 PGSC0003DMT400063899 Protein start_err\n",
      "PGSC0003DMP400054508 PGSC0003DMT400080350 Protein start_err\n",
      "PGSC0003DMP400012653 PGSC0003DMT400018392 Protein start_err\n",
      "PGSC0003DMP400047398 PGSC0003DMT400070107 Protein start_err\n",
      "PGSC0003DMP400034696 PGSC0003DMT400051474 Protein start_err\n",
      "PGSC0003DMP400040110 PGSC0003DMT400059604 Protein start_err\n",
      "PGSC0003DMP400065986 PGSC0003DMT400094311 Protein start_err\n",
      "PGSC0003DMP400011865 PGSC0003DMT400017200 Protein start_err\n",
      "PGSC0003DMP400015051 PGSC0003DMT400022089 Protein start_err\n",
      "PGSC0003DMP400026554 PGSC0003DMT400039125 Protein start_err\n",
      "PGSC0003DMP400006039 PGSC0003DMT400008698 Protein start_err\n",
      "PGSC0003DMP400044093 PGSC0003DMT400065388 Protein start_err\n",
      "PGSC0003DMP400007900 PGSC0003DMT400011355 Protein start_err\n",
      "PGSC0003DMP400033164 PGSC0003DMT400049092 Protein start_err\n",
      "PGSC0003DMP400066112 PGSC0003DMT400094437 Protein start_err\n",
      "PGSC0003DMP400030466 PGSC0003DMT400044950 Protein start_err\n",
      "PGSC0003DMP400060654 PGSC0003DMT400088979 Protein start_err\n",
      "PGSC0003DMP400045998 PGSC0003DMT400068087 Protein start_err\n",
      "PGSC0003DMP400034631 PGSC0003DMT400051373 Protein start_err\n",
      "PGSC0003DMP400024378 PGSC0003DMT400035874 Protein start_err\n",
      "PGSC0003DMP400068657 PGSC0003DMT400096982 Protein start_err\n",
      "PGSC0003DMP400060857 PGSC0003DMT400089182 Protein start_err\n",
      "PGSC0003DMP400030464 PGSC0003DMT400044945 Protein start_err\n",
      "PGSC0003DMP400025758 PGSC0003DMT400037904 Protein start_err\n",
      "PGSC0003DMP400068754 PGSC0003DMT400097079 Protein start_err\n",
      "PGSC0003DMP400052079 PGSC0003DMT400076862 Protein start_err\n",
      "PGSC0003DMP400058663 PGSC0003DMT400086988 Protein start_err\n",
      "PGSC0003DMP400008157 PGSC0003DMT400011743 Protein start_err\n",
      "PGSC0003DMP400062476 PGSC0003DMT400090801 Protein start_err\n",
      "PGSC0003DMP400065124 PGSC0003DMT400093449 Protein start_err\n"
     ]
    },
    {
     "name": "stdout",
     "output_type": "stream",
     "text": [
      "PGSC0003DMP400040305 PGSC0003DMT400059931 Protein start_err\n",
      "PGSC0003DMP400005302 PGSC0003DMT400007616 Protein start_err\n",
      "PGSC0003DMP400044608 PGSC0003DMT400066178 Protein start_err\n",
      "PGSC0003DMP400068600 PGSC0003DMT400096925 Protein start_err\n",
      "PGSC0003DMP400050623 PGSC0003DMT400074734 Protein start_err\n",
      "PGSC0003DMP400066941 PGSC0003DMT400095266 Protein start_err\n",
      "PGSC0003DMP400010020 PGSC0003DMT400014500 Protein start_err\n",
      "PGSC0003DMP400060019 PGSC0003DMT400088344 Protein start_err\n",
      "PGSC0003DMP400059390 PGSC0003DMT400087715 Protein start_err\n",
      "PGSC0003DMP400057277 PGSC0003DMT400085602 Protein start_err\n",
      "PGSC0003DMP400048337 PGSC0003DMT400071442 Protein start_err\n",
      "PGSC0003DMP400066720 PGSC0003DMT400095045 Protein start_err\n",
      "PGSC0003DMP400063640 PGSC0003DMT400091965 Protein start_err\n",
      "PGSC0003DMP400059905 PGSC0003DMT400088230 Protein start_err\n",
      "PGSC0003DMP400056527 PGSC0003DMT400084852 Protein start_err\n",
      "PGSC0003DMP400032926 PGSC0003DMT400048639 Protein start_err\n",
      "PGSC0003DMP400060306 PGSC0003DMT400088631 Protein start_err\n",
      "PGSC0003DMP400067611 PGSC0003DMT400095936 Protein start_err\n",
      "PGSC0003DMP400022107 PGSC0003DMT400032527 Protein start_err\n",
      "PGSC0003DMP400025948 PGSC0003DMT400038191 Protein start_err\n",
      "PGSC0003DMP400017940 PGSC0003DMT400026269 Protein start_err\n",
      "PGSC0003DMP400023396 PGSC0003DMT400034411 Protein start_err\n",
      "PGSC0003DMP400060932 PGSC0003DMT400089257 Protein start_err\n",
      "PGSC0003DMP400023457 PGSC0003DMT400034503 Protein start_err\n",
      "PGSC0003DMP400059094 PGSC0003DMT400087419 Protein start_err\n",
      "PGSC0003DMP400006564 PGSC0003DMT400009447 Protein start_err\n",
      "PGSC0003DMP400068380 PGSC0003DMT400096705 Protein start_err\n",
      "PGSC0003DMP400029924 PGSC0003DMT400044134 Protein start_err\n",
      "PGSC0003DMP400011023 PGSC0003DMT400015901 Protein start_err\n",
      "PGSC0003DMP400068280 PGSC0003DMT400096605 Protein start_err\n",
      "PGSC0003DMP400054535 PGSC0003DMT400080385 Protein start_err\n",
      "PGSC0003DMP400059433 PGSC0003DMT400087758 Protein start_err\n",
      "PGSC0003DMP400060274 PGSC0003DMT400088599 Protein start_err\n",
      "PGSC0003DMP400023291 PGSC0003DMT400034226 Protein start_err\n",
      "PGSC0003DMP400050911 PGSC0003DMT400075164 Protein start_err\n",
      "PGSC0003DMP400024818 PGSC0003DMT400036605 Protein start_err\n",
      "PGSC0003DMP400066054 PGSC0003DMT400094379 Protein start_err\n",
      "PGSC0003DMP400052643 PGSC0003DMT400077727 Protein start_err\n",
      "PGSC0003DMP400043044 PGSC0003DMT400063893 Protein start_err\n",
      "PGSC0003DMP400062605 PGSC0003DMT400090930 Protein start_err\n",
      "PGSC0003DMP400016926 PGSC0003DMT400024766 Protein start_err\n",
      "PGSC0003DMP400021249 PGSC0003DMT400031330 Protein start_err\n",
      "PGSC0003DMP400050724 PGSC0003DMT400074896 Protein start_err\n",
      "PGSC0003DMP400047399 PGSC0003DMT400070114 Protein start_err\n",
      "PGSC0003DMP400037711 PGSC0003DMT400056017 Protein start_err\n",
      "PGSC0003DMP400025464 PGSC0003DMT400037457 Protein start_err\n",
      "PGSC0003DMP400040016 PGSC0003DMT400059454 Protein start_err\n",
      "PGSC0003DMP400045779 PGSC0003DMT400067804 Protein start_err\n",
      "PGSC0003DMP400062070 PGSC0003DMT400090395 Protein start_err\n",
      "PGSC0003DMP400042238 PGSC0003DMT400062744 Protein start_err\n",
      "PGSC0003DMP400010964 PGSC0003DMT400015813 Protein start_err\n",
      "PGSC0003DMP400063933 PGSC0003DMT400092258 Protein start_err\n",
      "PGSC0003DMP400042245 PGSC0003DMT400062755 Protein start_err\n",
      "PGSC0003DMP400068200 PGSC0003DMT400096525 Protein start_err\n",
      "PGSC0003DMP400036546 PGSC0003DMT400054334 Protein start_err\n",
      "PGSC0003DMP400024234 PGSC0003DMT400035632 Protein start_err\n",
      "PGSC0003DMP400004029 PGSC0003DMT400005767 Protein start_err\n",
      "PGSC0003DMP400008858 PGSC0003DMT400012752 Protein start_err\n",
      "PGSC0003DMP400057322 PGSC0003DMT400085647 Protein start_err\n",
      "PGSC0003DMP400001189 PGSC0003DMT400001594 Protein start_err\n",
      "PGSC0003DMP400045407 PGSC0003DMT400067297 Protein start_err\n",
      "PGSC0003DMP400013505 PGSC0003DMT400019747 Protein start_err\n",
      "PGSC0003DMP400015376 PGSC0003DMT400022549 Protein start_err\n",
      "PGSC0003DMP400008978 PGSC0003DMT400012926 Protein start_err\n",
      "PGSC0003DMP400058153 PGSC0003DMT400086478 Protein start_err\n",
      "PGSC0003DMP400034478 PGSC0003DMT400051127 Protein start_err\n",
      "PGSC0003DMP400051480 PGSC0003DMT400076024 Protein start_err\n",
      "PGSC0003DMP400046561 PGSC0003DMT400068945 Protein start_err\n",
      "PGSC0003DMP400057945 PGSC0003DMT400086270 Protein start_err\n",
      "PGSC0003DMP400041576 PGSC0003DMT400061778 Protein start_err\n",
      "PGSC0003DMP400011389 PGSC0003DMT400016438 Protein start_err\n",
      "PGSC0003DMP400031353 PGSC0003DMT400046320 Protein start_err\n",
      "PGSC0003DMP400063782 PGSC0003DMT400092107 Protein start_err\n",
      "PGSC0003DMP400067199 PGSC0003DMT400095524 Protein start_err\n",
      "PGSC0003DMP400034416 PGSC0003DMT400051031 Protein start_err\n",
      "PGSC0003DMP400001816 PGSC0003DMT400002498 Protein start_err\n",
      "PGSC0003DMP400058003 PGSC0003DMT400086328 Protein start_err\n",
      "PGSC0003DMP400028843 PGSC0003DMT400042523 Protein start_err\n",
      "PGSC0003DMP400035544 PGSC0003DMT400052723 Protein start_err\n",
      "PGSC0003DMP400035526 PGSC0003DMT400052687 Protein start_err\n",
      "PGSC0003DMP400009398 PGSC0003DMT400013567 Protein start_err\n",
      "PGSC0003DMP400039559 PGSC0003DMT400058729 Protein start_err\n",
      "PGSC0003DMP400049857 PGSC0003DMT400073675 Protein start_err\n",
      "PGSC0003DMP400052699 PGSC0003DMT400077823 Protein start_err\n",
      "PGSC0003DMP400059731 PGSC0003DMT400088056 Protein start_err\n",
      "PGSC0003DMP400052304 PGSC0003DMT400077203 Protein start_err\n",
      "PGSC0003DMP400029875 PGSC0003DMT400044046 Protein start_err\n",
      "PGSC0003DMP400000059 PGSC0003DMT400000067 Protein start_err\n",
      "PGSC0003DMP400059214 PGSC0003DMT400087539 Protein start_err\n",
      "PGSC0003DMP400004373 PGSC0003DMT400006331 Protein start_err\n"
     ]
    },
    {
     "name": "stdout",
     "output_type": "stream",
     "text": [
      "PGSC0003DMP400062289 PGSC0003DMT400090614 Protein start_err\n",
      "PGSC0003DMP400035539 PGSC0003DMT400052715 Protein start_err\n",
      "PGSC0003DMP400005929 PGSC0003DMT400008536 Protein start_err\n",
      "PGSC0003DMP400014978 PGSC0003DMT400021992 Protein start_err\n",
      "PGSC0003DMP400065917 PGSC0003DMT400094242 Protein start_err\n",
      "PGSC0003DMP400058377 PGSC0003DMT400086702 Protein start_err\n",
      "PGSC0003DMP400048726 PGSC0003DMT400072073 Protein start_err\n",
      "PGSC0003DMP400024527 PGSC0003DMT400036110 Protein start_err\n",
      "PGSC0003DMP400017379 PGSC0003DMT400025521 Protein start_err\n",
      "PGSC0003DMP400021482 PGSC0003DMT400031689 Protein start_err\n",
      "PGSC0003DMP400017939 PGSC0003DMT400026265 Protein start_err\n",
      "PGSC0003DMP400000040 PGSC0003DMT400000043 Protein start_err\n",
      "PGSC0003DMP400069297 PGSC0003DMT400097622 Protein start_err\n",
      "PGSC0003DMP400066202 PGSC0003DMT400094527 Protein start_err\n",
      "PGSC0003DMP400011481 PGSC0003DMT400016564 Protein start_err\n",
      "208\n"
     ]
    }
   ],
   "source": [
    "bad = 0\n",
    "for record in SeqIO.parse(filename2,'fasta'):\n",
    "    if not record.seq.startswith(\"M\"):\n",
    "       bad += 1\n",
    "       print(record.description)\n",
    "\n",
    "print(bad)"
   ]
  },
  {
   "cell_type": "code",
   "execution_count": 15,
   "metadata": {
    "autoscroll": false,
    "collapsed": false,
    "ein.hycell": false,
    "ein.tags": "worksheet-0",
    "slideshow": {
     "slide_type": "-"
    }
   },
   "outputs": [
    {
     "name": "stdout",
     "output_type": "stream",
     "text": [
      "4319\n"
     ]
    }
   ],
   "source": [
    "filename3 = \"../NC_000913.ffn\"\n",
    "count = 0\n",
    "for record in SeqIO.parse(filename3, \"fasta\"):\n",
    "    count += 1\n",
    "print(count)"
   ]
  },
  {
   "cell_type": "code",
   "execution_count": 17,
   "metadata": {
    "autoscroll": false,
    "collapsed": false,
    "ein.hycell": false,
    "ein.tags": "worksheet-0",
    "slideshow": {
     "slide_type": "-"
    }
   },
   "outputs": [
    {
     "name": "stdout",
     "output_type": "stream",
     "text": [
      "1\n"
     ]
    }
   ],
   "source": [
    "filename4 = \"../NC_000913.fna\"\n",
    "count = 0\n",
    "for record in SeqIO.parse(filename4, \"fasta\"):\n",
    "    count += 1\n",
    "print(count)"
   ]
  },
  {
   "cell_type": "code",
   "execution_count": 19,
   "metadata": {
    "autoscroll": false,
    "collapsed": false,
    "ein.hycell": false,
    "ein.tags": "worksheet-0",
    "slideshow": {
     "slide_type": "-"
    }
   },
   "outputs": [
    {
     "name": "stdout",
     "output_type": "stream",
     "text": [
      "0\n"
     ]
    }
   ],
   "source": [
    "filename5 = \"../NC_000913.gbk\"\n",
    "count = 0\n",
    "for record in SeqIO.parse(filename5, \"fasta\"):\n",
    "    count += 1\n",
    "print(count)"
   ]
  },
  {
   "cell_type": "code",
   "execution_count": 12,
   "metadata": {
    "autoscroll": false,
    "collapsed": false,
    "ein.hycell": false,
    "ein.tags": "worksheet-0",
    "slideshow": {
     "slide_type": "-"
    }
   },
   "outputs": [
    {
     "name": "stdout",
     "output_type": "stream",
     "text": [
      "39031\n"
     ]
    }
   ],
   "source": [
    "filename2 = \"../PGSC_DM_v3.4_pep_representative.fasta\"\n",
    "count = 0\n",
    "for record in SeqIO.parse(filename2, 'fasta'):\n",
    "    count += 1\n",
    "\n",
    "print (count)"
   ]
  },
  {
   "cell_type": "code",
   "execution_count": null,
   "metadata": {
    "autoscroll": false,
    "collapsed": false,
    "ein.hycell": false,
    "ein.tags": "worksheet-0",
    "slideshow": {
     "slide_type": "-"
    }
   },
   "outputs": [],
   "source": []
  }
 ],
 "metadata": {
  "kernelspec": {
   "display_name": "Python 3",
   "name": "python3"
  },
  "name": "reading_sequence_files.ipynb"
 },
 "nbformat": 4,
 "nbformat_minor": 2
}
